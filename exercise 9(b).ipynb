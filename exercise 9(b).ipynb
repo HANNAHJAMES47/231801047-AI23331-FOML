{
 "cells": [
  {
   "cell_type": "code",
   "execution_count": 2,
   "id": "aa12e5be-23f7-4b78-a45c-6acc237365e1",
   "metadata": {},
   "outputs": [
    {
     "name": "stdout",
     "output_type": "stream",
     "text": [
      "Cluster Centers:\n",
      "[[3.53306452e+01 7.90887097e+04]\n",
      " [3.72643678e+01 2.68735632e+04]\n",
      " [4.17209302e+01 1.09046512e+05]\n",
      " [4.37105263e+01 1.38394737e+05]\n",
      " [3.68888889e+01 5.37407407e+04]]\n"
     ]
    }
   ],
   "source": [
    "import pandas as pd\n",
    "import matplotlib.pyplot as plt\n",
    "from sklearn.cluster import KMeans\n",
    "#hannah james (231801047)\n",
    "df = pd.read_csv('suvdata.csv')  \n",
    "X = df[['Age', 'EstimatedSalary']]  \n",
    "k =5  \n",
    "kmeans = KMeans(n_clusters=k, random_state=42)\n",
    "kmeans.fit(X)\n",
    "df['Cluster'] = kmeans.labels_\n",
    "print(\"Cluster Centers:\")\n",
    "print(kmeans.cluster_centers_)\n"
   ]
  },
  {
   "cell_type": "code",
   "execution_count": null,
   "id": "a794dece-e846-4fd2-85b4-7164e880d2e2",
   "metadata": {},
   "outputs": [],
   "source": []
  }
 ],
 "metadata": {
  "kernelspec": {
   "display_name": "Python 3 (ipykernel)",
   "language": "python",
   "name": "python3"
  },
  "language_info": {
   "codemirror_mode": {
    "name": "ipython",
    "version": 3
   },
   "file_extension": ".py",
   "mimetype": "text/x-python",
   "name": "python",
   "nbconvert_exporter": "python",
   "pygments_lexer": "ipython3",
   "version": "3.12.5"
  }
 },
 "nbformat": 4,
 "nbformat_minor": 5
}
